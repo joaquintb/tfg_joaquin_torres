{
 "cells": [
  {
   "cell_type": "code",
   "execution_count": null,
   "metadata": {},
   "outputs": [],
   "source": [
    "import torch\n",
    "import torch.nn as nn\n",
    "import numpy as np\n",
    "import matplotlib.pyplot as plt"
   ]
  },
  {
   "cell_type": "markdown",
   "metadata": {},
   "source": [
    "Solving Lotka-Volterra numerically via RK4"
   ]
  },
  {
   "cell_type": "code",
   "execution_count": 9,
   "metadata": {},
   "outputs": [],
   "source": [
    "def LV(x,params):\n",
    "    \n",
    "    alpha = params['alpha']\n",
    "    beta = params['beta']\n",
    "    gamma = params['gamma']\n",
    "    delta = params['delta']\n",
    "    \n",
    "    xdot = np.array([alpha*x[0] - beta*x[0]*x[1], delta*x[0]*x[1] - gamma*x[1]])\n",
    "\n",
    "    return xdot\n",
    "\n",
    "def RK4(f, x0, t0, tf, dt):\n",
    "    \n",
    "    t = np.arange(t0, tf, dt)\n",
    "    nt = t.size\n",
    "    \n",
    "    nx = x0.size\n",
    "    x = np.zeros((nx,nt))\n",
    "    \n",
    "    x[:,0] = x0\n",
    "    \n",
    "    for k in range(nt-1):\n",
    "        k1 = dt*f(t[k], x[:,k])\n",
    "        k2 = dt*f(t[k] + dt/2, x[:,k] + k1/2)\n",
    "        k3 = dt*f(t[k] + dt/2, x[:,k] + k2/2)\n",
    "        k4 = dt*f(t[k] + dt, x[:,k] + k3)\n",
    "        \n",
    "        dx=(k1 + 2*k2 + 2*k3 +k4)/6\n",
    "        x[:,k+1] = x[:,k] + dx;  \n",
    "    \n",
    "    return x, t\n",
    "\n",
    "# Defining the problem\n",
    "params = {\"alpha\": 1.1, \"beta\": 0.4, \"gamma\": 0.4, \"delta\": 0.1}\n",
    "\n",
    "f= lambda t,x : LV(x, params)         # lambda is an anonymous function which can take may inputs but returns one output. Same case is with MATLAB denoted by @.\n",
    "x0 = np.array([20,5])                 # initial condition    \n",
    "\n",
    "# Solving the problem\n",
    "t0 = 0                                # time unit is second\n",
    "tf = 70\n",
    "dt = 0.01\n",
    "x, t = RK4(f, x0, t0, tf, dt)"
   ]
  },
  {
   "cell_type": "code",
   "execution_count": null,
   "metadata": {},
   "outputs": [],
   "source": [
    "def eval_sol(t):\n",
    "    "
   ]
  },
  {
   "cell_type": "markdown",
   "metadata": {},
   "source": [
    "Network"
   ]
  },
  {
   "cell_type": "code",
   "execution_count": null,
   "metadata": {},
   "outputs": [],
   "source": [
    "class FCN(nn.Module):\n",
    "    \"Defines a standard fully-connected network in PyTorch\"\n",
    "    \n",
    "    def __init__(self, N_INPUT, N_OUTPUT, N_HIDDEN, N_LAYERS):\n",
    "        super().__init__()\n",
    "        activation = nn.Tanh\n",
    "        self.fcs = nn.Sequential(*[\n",
    "                        nn.Linear(N_INPUT, N_HIDDEN),\n",
    "                        activation()])\n",
    "        self.fch = nn.Sequential(*[\n",
    "                        nn.Sequential(*[\n",
    "                            nn.Linear(N_HIDDEN, N_HIDDEN),\n",
    "                            activation()]) for _ in range(N_LAYERS-1)])\n",
    "        self.fce = nn.Linear(N_HIDDEN, N_OUTPUT)\n",
    "\n",
    "    def forward(self, x):\n",
    "        x = self.fcs(x)\n",
    "        x = self.fch(x)\n",
    "        x = self.fce(x)\n",
    "        return x"
   ]
  }
 ],
 "metadata": {
  "kernelspec": {
   "display_name": "Python 3",
   "language": "python",
   "name": "python3"
  },
  "language_info": {
   "codemirror_mode": {
    "name": "ipython",
    "version": 3
   },
   "file_extension": ".py",
   "mimetype": "text/x-python",
   "name": "python",
   "nbconvert_exporter": "python",
   "pygments_lexer": "ipython3",
   "version": "3.12.2"
  }
 },
 "nbformat": 4,
 "nbformat_minor": 2
}
