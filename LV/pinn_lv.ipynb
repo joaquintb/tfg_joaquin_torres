{
 "cells": [
  {
   "cell_type": "markdown",
   "metadata": {},
   "source": [
    "Libraries"
   ]
  },
  {
   "cell_type": "code",
   "execution_count": null,
   "metadata": {},
   "outputs": [],
   "source": [
    "import numpy as np\n",
    "import matplotlib.pyplot as plt\n",
    "import torch\n",
    "import torch.nn as nn\n",
    "import tqdm as tqdm"
   ]
  },
  {
   "cell_type": "markdown",
   "metadata": {},
   "source": [
    "Solving Classical LK 2D system"
   ]
  },
  {
   "cell_type": "code",
   "execution_count": null,
   "metadata": {},
   "outputs": [],
   "source": [
    "# Define the Lotka-Volterra system\n",
    "def LV(x, a, b, c, d):    \n",
    "    xdot = np.array([a*x[0] - b*x[0]*x[1], d*x[0]*x[1] - c*x[1]])\n",
    "    return xdot"
   ]
  },
  {
   "cell_type": "code",
   "execution_count": null,
   "metadata": {},
   "outputs": [],
   "source": [
    "def RK4(f, x0, t0, tf, num_points):\n",
    "    \n",
    "    t = np.linspace(t0,tf, num_points)\n",
    "    dt = (tf - t0) / (num_points - 1)\n",
    "    nt = t.size\n",
    "    \n",
    "    nx = x0.size\n",
    "    x = np.zeros((nx,nt))\n",
    "    \n",
    "    x[:,0] = x0\n",
    "    \n",
    "    for k in range(nt-1):\n",
    "        k1 = dt*f(t[k], x[:,k])\n",
    "        k2 = dt*f(t[k] + dt/2, x[:,k] + k1/2)\n",
    "        k3 = dt*f(t[k] + dt/2, x[:,k] + k2/2)\n",
    "        k4 = dt*f(t[k] + dt, x[:,k] + k3)\n",
    "        \n",
    "        dx=(k1 + 2*k2 + 2*k3 +k4)/6\n",
    "        x[:,k+1] = x[:,k] + dx;  \n",
    "    \n",
    "    return x, t"
   ]
  },
  {
   "cell_type": "code",
   "execution_count": null,
   "metadata": {},
   "outputs": [],
   "source": [
    "# Defining the problem\n",
    "a = 1\n",
    "b = 1\n",
    "c = 1\n",
    "d = 1\n",
    "\n",
    "f= lambda t,x : LV(x,a,b,c,d)         # lambda is an anonymous function which can take may inputs but returns one output. Same case is with MATLAB denoted by @.\n",
    "x0 = np.array([0.5,1])                 # initial condition    \n",
    "\n",
    "# Solving the problem\n",
    "t0 = 0                                # time unit is second\n",
    "tf = 15\n",
    "num_points = 1000\n",
    "x, t = RK4(f, x0, t0, tf, num_points)"
   ]
  },
  {
   "cell_type": "code",
   "execution_count": null,
   "metadata": {},
   "outputs": [],
   "source": [
    "# Plot the solution\n",
    "plt.plot(t, x[0,:], label='Prey')\n",
    "plt.plot(t, x[1,:], label='Predator')\n",
    "plt.xlabel('Time')\n",
    "plt.ylabel('Population')\n",
    "plt.title('Lotka-Volterra Predator-Prey Model')\n",
    "plt.legend()\n",
    "plt.grid(True)\n",
    "plt.show()"
   ]
  },
  {
   "cell_type": "markdown",
   "metadata": {},
   "source": [
    "Generating Observational Data "
   ]
  },
  {
   "cell_type": "code",
   "execution_count": null,
   "metadata": {},
   "outputs": [],
   "source": [
    "# Generate 8 equispaced time locations in the domain for fair comparison with ABC-SMC\n",
    "obs_ind = np.linspace(0, len(t) - 1, 8, dtype=int)\n",
    "\n",
    "# Get solution at those time locations\n",
    "x_obs = [x[0][ind] for ind in obs_ind]\n",
    "y_obs = [x[1][ind] for ind in obs_ind]\n",
    "\n",
    "# Generate Gaussian noise to add to the observations\n",
    "noise_x = 0.03 * np.random.randn(len(x_obs))\n",
    "noise_y = 0.03 * np.random.randn(len(y_obs))\n",
    "\n",
    "# Add the noise to the observed values\n",
    "x_obs_noise = [x_obs[ind] + noise_x[ind] for ind in range(len(x_obs))]\n",
    "y_obs_noise = [y_obs[ind] + noise_y[ind] for ind in range(len(y_obs))]"
   ]
  },
  {
   "cell_type": "code",
   "execution_count": null,
   "metadata": {},
   "outputs": [],
   "source": [
    "plt.figure()\n",
    "plt.title(\"Noisy observational data\")\n",
    "plt.scatter([t[ind] for ind in obs_ind], x_obs_noise)\n",
    "plt.scatter([t[ind] for ind in obs_ind], y_obs_noise)\n",
    "plt.plot(t, x[0], label='Exact Prey', color=\"tab:grey\")\n",
    "plt.plot(t, x[1], label='Exact Predator', color=\"tab:grey\")\n",
    "plt.xlabel('Time')\n",
    "plt.ylabel('Population')\n",
    "plt.grid(True)\n",
    "plt.show()"
   ]
  },
  {
   "cell_type": "markdown",
   "metadata": {},
   "source": [
    "Tensors"
   ]
  },
  {
   "cell_type": "code",
   "execution_count": null,
   "metadata": {},
   "outputs": [],
   "source": [
    "# Tensor containing time locations for observations\n",
    "t_obs = torch.tensor([t[ind] for ind in obs_ind], dtype=torch.float32).view(-1,1)\n",
    "# Tensor with noisy observations for prey\n",
    "u_obs_x = torch.tensor(x_obs_noise,  dtype=torch.float32).view(-1,1)\n",
    "# Tensor with noisy observations for predator\n",
    "u_obs_y = torch.tensor(y_obs_noise,  dtype=torch.float32).view(-1,1)\n",
    "# Tensor of times to train PINN through physics loss\n",
    "t_physics = torch.linspace(t0, tf, 500).view(-1, 1).requires_grad_(True)\n",
    "# Tensor of times to check progress of PINN when training\n",
    "t_test = torch.linspace(t0, tf, 200).view(-1, 1).requires_grad_(True)"
   ]
  },
  {
   "cell_type": "markdown",
   "metadata": {},
   "source": [
    "Defining the Network"
   ]
  },
  {
   "cell_type": "code",
   "execution_count": null,
   "metadata": {},
   "outputs": [],
   "source": [
    "class FCN(nn.Module):\n",
    "    \"Defines a standard fully-connected network in PyTorch with sinusoidal activation\"\n",
    "    def __init__(self, N_INPUT, N_OUTPUT, N_HIDDEN, N_LAYERS):\n",
    "        super().__init__()\n",
    "        activation = nn.Tanh\n",
    "        self.fcs = nn.Sequential(*[\n",
    "                        nn.Linear(N_INPUT, N_HIDDEN),\n",
    "                        activation()])\n",
    "        self.fch = nn.Sequential(*[\n",
    "                        nn.Sequential(*[\n",
    "                            nn.Linear(N_HIDDEN, N_HIDDEN),\n",
    "                            activation()]) for _ in range(N_LAYERS-1)])\n",
    "        self.fce_predator = nn.Linear(N_HIDDEN, N_OUTPUT)\n",
    "        self.fce_prey = nn.Linear(N_HIDDEN, N_OUTPUT)\n",
    "\n",
    "    def forward(self, x):\n",
    "        x = self.fcs(x)\n",
    "        x = self.fch(x)\n",
    "        prey_output = self.fce_prey(x)\n",
    "        predator_output = self.fce_predator(x)\n",
    "        return prey_output, predator_output"
   ]
  },
  {
   "cell_type": "markdown",
   "metadata": {},
   "source": [
    "Training the PINN to learn a parameter"
   ]
  },
  {
   "cell_type": "code",
   "execution_count": 72,
   "metadata": {},
   "outputs": [
    {
     "name": "stderr",
     "output_type": "stream",
     "text": [
      "100%|██████████| 30000/30000 [06:16<00:00, 79.66it/s] \n"
     ]
    }
   ],
   "source": [
    "# Define PINN\n",
    "pinn = FCN(1,1,32,3)\n",
    "\n",
    "# Sample initial problems parameters from uniform 0 to 10 for comparison to be fair\n",
    "a = torch.nn.Parameter(torch.empty(1).uniform_(0, 10), requires_grad=True)\n",
    "b = torch.nn.Parameter(torch.empty(1).uniform_(0, 10), requires_grad=True)\n",
    "c = torch.nn.Parameter(torch.empty(1).uniform_(0, 10), requires_grad=True)\n",
    "d = torch.nn.Parameter(torch.empty(1).uniform_(0, 10), requires_grad=True)\n",
    "\n",
    "a_s, b_s, c_s, d_s = [], [], [], []\n",
    "\n",
    "# Define optimiser and make parameters learnable\n",
    "optimiser = torch.optim.Adam(list(pinn.parameters())+[a,b,c,d],lr=1e-3)\n",
    "\n",
    "# Hyperparameter deciding weight given to fitting observational data\n",
    "lambda_weight = 100\n",
    "\n",
    "# Initialize lists to store loss values\n",
    "physics_loss_values = []\n",
    "data_loss_values = []\n",
    "total_loss_values = []\n",
    "\n",
    "num_its = 30000\n",
    "\n",
    "for i in tqdm.tqdm(range(num_its)):\n",
    "    # Reset gradient to zero\n",
    "    optimiser.zero_grad()\n",
    "\n",
    "    # -----------------------\n",
    "    #       PHYSICS LOSS\n",
    "    # -----------------------\n",
    "    u1,u2 = pinn(t_physics)\n",
    "\n",
    "    # Compute the derivatives with respect to time\n",
    "    du1dt = torch.autograd.grad(u1, t_physics, torch.ones_like(u1), create_graph=True)[0]\n",
    "    du2dt = torch.autograd.grad(u2, t_physics, torch.ones_like(u2), create_graph=True)[0]\n",
    "\n",
    "    # Compute the physics loss for Lotka-Volterra equations\n",
    "    phy_loss_x = torch.mean((du1dt - a*u1 + b*u1*u2) ** 2)\n",
    "    phy_loss_y = torch.mean((du2dt + c*u2 - d*u1*u2) ** 2)\n",
    "    # Compute total physics loss\n",
    "    total_physics_loss = phy_loss_x + phy_loss_y\n",
    "\n",
    "    # -----------------------\n",
    "    #       DATA LOSS\n",
    "    # -----------------------\n",
    "    # Compute the PINN output\n",
    "    u1, u2 = pinn(t_obs)\n",
    "    # Compute the data loss for the first equation (x)\n",
    "    data_loss_x = torch.mean((u1 - u_obs_x)**2)\n",
    "    # Compute the data loss for the second equation (y)\n",
    "    data_loss_y = torch.mean((u2 - u_obs_y)**2)\n",
    "    # Compute total data loss\n",
    "    total_data_loss = data_loss_x + data_loss_y\n",
    "\n",
    "    # Compute total loss\n",
    "    loss = total_physics_loss + lambda_weight*total_data_loss\n",
    "\n",
    "    # Backpropagate joint loss, take optimiser step\n",
    "    loss.backward()\n",
    "    optimiser.step()\n",
    "\n",
    "    # Append loss values to lists\n",
    "    physics_loss_values.append(total_physics_loss.item())\n",
    "    data_loss_values.append(total_data_loss.item())\n",
    "    total_loss_values.append(loss.item())\n",
    "\n",
    "    # Keep track of parameter values\n",
    "    a_s.append(a.item())\n",
    "    b_s.append(b.item())\n",
    "    c_s.append(c.item())\n",
    "    d_s.append(d.item())\n",
    "\n",
    "    # plot the result as training progresses\n",
    "    if i % 2500 == 0: \n",
    "        u1, u2 = pinn(t_test)\n",
    "        with torch.no_grad():\n",
    "            plt.scatter(t_obs, u_obs_x, label=\"Noisy observations X\", alpha=0.3)\n",
    "            plt.scatter(t_obs, u_obs_y, label=\"Noisy observations Y\", alpha=0.3)\n",
    "            plt.plot(t_test, u1, label=\"PINN solution X\", color=\"tab:green\")\n",
    "            plt.plot(t_test, u2, label=\"PINN solution Y\", color=\"tab:blue\")  \n",
    "            plt.title(f\"Training step {i}: a={a.item():.2f}, b={b.item():.2f}, c={c.item():.2f}, d={d.item():.2f}\")\n",
    "            plt.legend()\n",
    "            plt.show()"
   ]
  },
  {
   "cell_type": "code",
   "execution_count": 73,
   "metadata": {},
   "outputs": [
    {
     "data": {
      "image/png": "[encoded data removed]",
      "text/plain": [
       "<Figure size 1000x500 with 1 Axes>"
      ]
     },
     "metadata": {},
     "output_type": "display_data"
    }
   ],
   "source": [
    "# Plot loss values over time\n",
    "plt.figure(figsize=(10, 5))\n",
    "plt.plot(range(num_its), physics_loss_values, label='Physics Loss')\n",
    "plt.plot(range(num_its), data_loss_values, label='Data Loss')\n",
    "plt.plot(range(num_its), total_loss_values, label='Total Loss')\n",
    "plt.xlabel('Iteration')\n",
    "plt.ylabel('Loss')\n",
    "plt.title('Loss Function Over Time')\n",
    "plt.legend()\n",
    "plt.grid(True)\n",
    "plt.show()"
   ]
  },
  {
   "cell_type": "code",
   "execution_count": 74,
   "metadata": {},
   "outputs": [
    {
     "data": {
      "image/png": "[encoded data removed]",
      "text/plain": [
       "<Figure size 640x480 with 1 Axes>"
      ]
     },
     "metadata": {},
     "output_type": "display_data"
    }
   ],
   "source": [
    "plt.figure()\n",
    "plt.title(\"Parameter a\")\n",
    "plt.plot(a_s, label=\"PINN estimate\")\n",
    "plt.hlines(1, 0, len(a_s), label=\"True value\", color=\"tab:green\")\n",
    "plt.legend()\n",
    "plt.xlabel(\"Training step\")\n",
    "plt.show()"
   ]
  },
  {
   "cell_type": "code",
   "execution_count": null,
   "metadata": {},
   "outputs": [],
   "source": [
    "plt.figure()\n",
    "plt.title(\"Parameter b\")\n",
    "plt.plot(b_s, label=\"PINN estimate\")\n",
    "plt.hlines(1, 0, len(b_s), label=\"True value\", color=\"tab:green\")\n",
    "plt.legend()\n",
    "plt.xlabel(\"Training step\")\n",
    "plt.show()"
   ]
  },
  {
   "cell_type": "code",
   "execution_count": null,
   "metadata": {},
   "outputs": [],
   "source": [
    "plt.figure()\n",
    "plt.title(\"Parameter c\")\n",
    "plt.plot(c_s, label=\"PINN estimate\")\n",
    "plt.hlines(1, 0, len(c_s), label=\"True value\", color=\"tab:green\")\n",
    "plt.legend()\n",
    "plt.xlabel(\"Training step\")\n",
    "plt.show()"
   ]
  },
  {
   "cell_type": "code",
   "execution_count": null,
   "metadata": {},
   "outputs": [],
   "source": [
    "plt.figure()\n",
    "plt.title(\"Parameter d\")\n",
    "plt.plot(d_s, label=\"PINN estimate\")\n",
    "plt.hlines(1, 0, len(d_s), label=\"True value\", color=\"tab:green\")\n",
    "plt.legend()\n",
    "plt.xlabel(\"Training step\")\n",
    "plt.show()"
   ]
  },
  {
   "cell_type": "code",
   "execution_count": null,
   "metadata": {},
   "outputs": [],
   "source": [
    "print(a,b,c,d)"
   ]
  }
 ],
 "metadata": {
  "kernelspec": {
   "display_name": "Python 3",
   "language": "python",
   "name": "python3"
  },
  "language_info": {
   "codemirror_mode": {
    "name": "ipython",
    "version": 3
   },
   "file_extension": ".py",
   "mimetype": "text/x-python",
   "name": "python",
   "nbconvert_exporter": "python",
   "pygments_lexer": "ipython3",
   "version": "3.12.2"
  }
 },
 "nbformat": 4,
 "nbformat_minor": 2
}
