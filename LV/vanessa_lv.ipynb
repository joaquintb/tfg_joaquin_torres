{
  "cells": [
    {
      "cell_type": "markdown",
      "metadata": {
        "colab_type": "text",
        "id": "view-in-github"
      },
      "source": [
        "<a href=\"https://colab.research.google.com/github/vgarcialopezm/ABC-SMC/blob/main/LV.ipynb\" target=\"_parent\"><img src=\"https://colab.research.google.com/assets/colab-badge.svg\" alt=\"Open In Colab\"/></a>"
      ]
    },
    {
      "cell_type": "code",
      "execution_count": null,
      "metadata": {
        "colab": {
          "base_uri": "https://localhost:8080/"
        },
        "id": "47FXPWPBlST2",
        "outputId": "604a9dfb-ae28-40d4-b8f1-931f6da93f19"
      },
      "outputs": [],
      "source": [
        "import numpy as np\n",
        "from scipy.stats import norm, uniform, multivariate_normal\n",
        "from scipy.optimize import minimize\n",
        "from scipy.special import logsumexp\n",
        "import sys,ast\n",
        "from random import choices,seed,random\n",
        "from tqdm import tqdm\n",
        "#import p_tqdm\n",
        "from functools import partial\n",
        "import os\n",
        "import matplotlib.pyplot as plt\n",
        "\n",
        "\n",
        "epsilons=[30.0,16.0,6.0,4.3,3.5,2.1,1.2,0.8,0.2,0.08]\n",
        "#epsilons=[16.0,12.0,11.8,11.3,10.6,7.1,5.2]\n",
        "\n",
        "parametros=[1,1,1,1]\n",
        "print(type(parametros))\n",
        "\n",
        "params_lotka_volterra = [ # list of parameters used in the lotka volterra model \n",
        "    {'name' : 'a', 'lower_limit':0.0,'upper_limit':10.0},# growing rate of prey in absence of repressor\n",
        "    {'name' : 'b','lower_limit':0.0,'upper_limit':10.0},#susceptibility of prey \n",
        "    {'name' : 'c','lower_limit':0.0,'upper_limit':10.0},# extinction rate of predator\n",
        "    {'name' : 'd','lower_limit':0.0,'upper_limit':10.0}# benefit of predator\n",
        "]"
      ]
    },
    {
      "cell_type": "code",
      "execution_count": null,
      "metadata": {
        "id": "xzbKofPplST7"
      },
      "outputs": [],
      "source": [
        "def euc_dist(data1, data2):\n",
        "    if np.shape(data1) != np.shape(data2):\n",
        "        print (\"\\n the dimensions of the datasets are different (%s v.s. %s)\\n\" % (len(data1), len(data2)))\n",
        "        sys.exit()\n",
        "    else:\n",
        "        distance = np.linalg.norm(data1 - data2)\n",
        "        print('dist',data1 - data2)\n",
        "\n",
        "    if distance < 0:\n",
        "        return [None]\n",
        "    else:\n",
        "        return distance\n"
      ]
    },
    {
      "cell_type": "code",
      "execution_count": null,
      "metadata": {
        "id": "FX-lxWmylST8"
      },
      "outputs": [],
      "source": [
        "\n",
        "def euc_disti(data1, data2):\n",
        "    if np.shape(data1) != np.shape(data2):\n",
        "        print (\"\\n the dimensions of the datasets are different (%s v.s. %s)\\n\" % (len(data1), len(data2)))\n",
        "        sys.exit()\n",
        "    else:\n",
        "        z =np.array((data1[:,0] - data2[:,0])**2+ (data1[:,1] - data2[:,1])**2)\n",
        "        #print (z)\n",
        "        distance=np.sum(z)\n",
        "\n",
        "    if distance < 0:\n",
        "        return [None]\n",
        "    elif np.isnan(distance):\n",
        "      distance=100000\n",
        "      return distance\n",
        "    else:\n",
        "        return distance\n",
        "\n"
      ]
    },
    {
      "cell_type": "code",
      "execution_count": null,
      "metadata": {
        "id": "W3HpqLwMlST9"
      },
      "outputs": [],
      "source": [
        "def prior():\n",
        "### Generate a random parameter inside the limits stablished. The shape of the distribution can be changed if required\n",
        "    prior = []\n",
        "    for ipar,par in enumerate(params_lotka_volterra):\n",
        "        prior.append(uniform.rvs(loc = par['lower_limit'],\n",
        "                                 scale = par['upper_limit'])) #par['upper_limit']))\n",
        "        \n",
        "       \n",
        "    return prior\n"
      ]
    },
    {
      "cell_type": "code",
      "execution_count": null,
      "metadata": {
        "id": "TduipxDqlST9"
      },
      "outputs": [],
      "source": [
        "#function that given the values of the parameters, calculates the \n",
        "\n",
        "def evaluate_prev_pru(params):\n",
        "    print('parameters',params)\n",
        "    l=len(params)\n",
        "    prior = 1\n",
        "    for ipar,par in enumerate(params_lotka_volterra):\n",
        "    #for i in range(l):\n",
        "        prior *= uniform.pdf(params[ipar],loc = par['lower_limit'],\n",
        "                                 scale = par['upper_limit'])\n",
        "        if prior==0:\n",
        "            break   \n",
        "      #  print('params i', params[i])\n",
        "       # print('prior',prior)\n",
        "    return prior\n"
      ]
    },
    {
      "cell_type": "code",
      "execution_count": null,
      "metadata": {
        "id": "0hN8cxC2lST_"
      },
      "outputs": [],
      "source": [
        "#function that, given a list of parameters sampled, perturbs it by applying a multivariate normal kernel\n",
        "#function that, given a list of parameters sampled, perturbs it by applying a multivariate normal kernel\n",
        "def perturbi(listaprev,s):\n",
        "    #print(listaprev)\n",
        "    lista=np.asarray(listaprev) #.tolist()\n",
        "    #mean_vec=np.mean(lista)\n",
        "    k=uniform.rvs(loc = -0.1,scale = 0.2)\n",
        "    cov_matrix=2.0*np.cov(lista.T)  #the covariance matrix for the multivariate normal perturbation kernel is given by this expression\n",
        "    kernel=multivariate_normal(cov=cov_matrix)\n",
        "    pert=s+k # here we obtain the list of perturbed parameters\n",
        "    pertur=pert.tolist()\n",
        "    return pertur\n"
      ]
    },
    {
      "cell_type": "code",
      "execution_count": null,
      "metadata": {
        "id": "oMHvU3_koTy-"
      },
      "outputs": [],
      "source": [
        "def perturb(listaprev,s):\n",
        "    #print(listaprev)\n",
        "    lista=np.asarray(listaprev) #.tolist()\n",
        "    #mean_vec=np.mean(lista)\n",
        "    cov_matrix=2.0*np.cov(lista.T)  #the covariance matrix for the multivariate normal perturbation kernel is given by this expression\n",
        "    kernel=multivariate_normal(cov=cov_matrix)\n",
        "    pert=s+kernel.rvs() # here we obtain the list of perturbed parameters\n",
        "    pertur=pert.tolist()\n",
        "    return pertur\n"
      ]
    },
    {
      "cell_type": "code",
      "execution_count": null,
      "metadata": {
        "id": "M3ODTtuAlST_"
      },
      "outputs": [],
      "source": [
        "\n",
        "def rk4(f,in_c,t,params):\n",
        "    #params=[a,b,c,d]\n",
        "    #h=t[1]-t[0]\n",
        "    n=len(t)\n",
        "    X  = np.zeros([n,len(in_c)],dtype=np.float64)\n",
        "    X[0]=in_c\n",
        "    for i in range(n-1):\n",
        "      h=t[i+1]-t[i]\n",
        "      k1=f(t[i],X[i],*params)\n",
        "      k2=f(t[i]+h/2.,X[i]+k1*h/2.,*params)\n",
        "      k3=f(t[i]+h/2,X[i]+k2*h/2.,*params)\n",
        "      k4=f(t[i]+h,X[i]+k3*h,*params)\n",
        "    \n",
        "      X[i+1]=X[i]+h*(k1/6.+k2/3.+k3/3.+k4/6.)\n",
        "     \n",
        "    return X"
      ]
    },
    {
      "cell_type": "code",
      "execution_count": null,
      "metadata": {
        "id": "5gBF6_KalSUA"
      },
      "outputs": [],
      "source": [
        "def lotka_volterra(t,X,a,b,c,d):\n",
        "    x,y=X\n",
        "    dx=a*x-b*x*y\n",
        "    dy=c*x*y-d*y\n",
        "    return np.array([dx,dy],dtype=np.float64)\n",
        "\n",
        "X0=[1,0.5]\n",
        "#t=np.linspace()\n",
        "t=[1.1, 2.4, 3.9, 5.6, 7.5, 9.6, 11.9, 14.4]\n",
        "t1=np.linspace(0,15,1000)"
      ]
    },
    {
      "cell_type": "code",
      "execution_count": null,
      "metadata": {
        "colab": {
          "base_uri": "https://localhost:8080/",
          "height": 249
        },
        "id": "lWPBq0xHlSUB",
        "outputId": "bf3cfa8d-5c7e-49b7-e5b5-c8af7bd72d74"
      },
      "outputs": [],
      "source": [
        "data1_c=np.array([[1.87, 0.65, 0.22, 0.31, 1.64, 1.15, 0.24, 2.91],[0.49, 2.62, 1.54, 0.02, 1.14, 1.68, 1.07, 0.88]]).T\n",
        "\n",
        "def add_noise(mu,sigma,data):\n",
        "    noise=np.random.normal(mu,sigma)\n",
        "    data_noise=data+noise\n",
        "    return data_noise\n",
        "print('\\n')\n",
        "data1_noise=add_noise(0,0.5,midata)\n",
        "print('data1 noise',data1_noise)\n"
      ]
    },
    {
      "cell_type": "code",
      "execution_count": null,
      "metadata": {
        "colab": {
          "base_uri": "https://localhost:8080/"
        },
        "id": "sgxHDr4-lSUC",
        "outputId": "d83e5d55-0012-4726-c335-741a79f7a3b1"
      },
      "outputs": [],
      "source": [
        "data1=rk4(lotka_volterra,X0,t1,parametros)\n",
        "data1"
      ]
    },
    {
      "cell_type": "code",
      "execution_count": null,
      "metadata": {
        "colab": {
          "base_uri": "https://localhost:8080/",
          "height": 297
        },
        "id": "GVVgE91klSUD",
        "outputId": "d58febd3-7874-4b7c-e5a1-7ac402a659b3"
      },
      "outputs": [],
      "source": [
        "plt.figure()\n",
        "plt.plot( t1, data1[:,0],label='predator')\n",
        "plt.plot( t1, data1[:,1],label='prey')\n",
        "plt.legend()\n",
        "plt.xlabel('time')\n",
        "plt.ylabel('populations density')\n",
        "#plt.plot(t,data1_c[:,0],'o')\n",
        "#plt.plot(t,data1_c[:,1],'*')\n",
        "#plt.plot( t, data3,'x')"
      ]
    },
    {
      "cell_type": "code",
      "execution_count": null,
      "metadata": {
        "colab": {
          "base_uri": "https://localhost:8080/",
          "height": 299
        },
        "id": "n7OjbV3olSUD",
        "outputId": "8f91fd7b-98ff-47a0-f3ce-fc15a5661bab"
      },
      "outputs": [],
      "source": [
        "midata=rk4(lotka_volterra,X0,t,parametros)\n",
        "midata\n",
        "plt.figure()\n",
        "plt.plot( t, midata)"
      ]
    },
    {
      "cell_type": "code",
      "execution_count": null,
      "metadata": {
        "id": "u4CwF1etAovS"
      },
      "outputs": [],
      "source": [
        "euc_dist(midata,data1_noise)"
      ]
    },
    {
      "cell_type": "code",
      "execution_count": null,
      "metadata": {
        "id": "dxHmt6WclSUE"
      },
      "outputs": [],
      "source": [
        "\n",
        "\n",
        "\n",
        "#function that gives the denominator used to calculate the weights of every particle.\n",
        "def weighting(i,j,N,sam,wei,sampre):\n",
        "     denom=0\n",
        "     #ker=1\n",
        "     samprev=np.asarray(sampre)\n",
        "     cov_matrix=2.0*np.cov(samprev.T)\n",
        "     kernel=multivariate_normal(cov=cov_matrix)\n",
        "     for k in range(N):\n",
        "            #print('sample i j',type(sam[k]),sam[k])\n",
        "           # print('sample i-1,j',type(sampre[k]),sampre[k])\n",
        "            sampre[k]=np.array(sampre[k])\n",
        "            #print('sampre',sampre[k])\n",
        "            #cov_matrix=2.0*np.cov((sampre[k]).T)  #the covariance matrix for the multivariate normal perturbation kernel is given by this expression\n",
        "            #print('cov',cov_matrix)\n",
        "            #kernel=multivariate_normal(cov=cov_matrix)\n",
        "            # print('wei',wei[i-1,k])\n",
        "            #print('sam[j]',sam[j])\n",
        "            #print('sampre[k]',sampre[k])\n",
        "            ker=kernel.pdf(sam[j]-sampre[k])\n",
        "            #print('ker',ker)\n",
        "            #kerne=np.prod(ker)  #here we are obtaining the joint probability of the parameter vector obtained when applying the kernel\n",
        "            denom+=wei[k]*ker #kerne\n",
        "            #print('kernel',kernel.cdf(sam[k]-sampre[k]))\n",
        "     #print('den',denom)      \n",
        "     return denom\n",
        "\n",
        "\n",
        "    \n"
      ]
    },
    {
      "cell_type": "code",
      "execution_count": null,
      "metadata": {
        "id": "tqdoYqGxlSUE"
      },
      "outputs": [],
      "source": [
        "#function used to normalize the weights\n",
        "def normalize(wei):\n",
        "    #normalized=wei/np.linalg.norm(wei)\n",
        "    normalized=wei/np.sum(wei)\n",
        "    return normalized  \n",
        "\n"
      ]
    },
    {
      "cell_type": "code",
      "execution_count": null,
      "metadata": {
        "id": "zNZq3qXIlSUF"
      },
      "outputs": [],
      "source": [
        "def principal(epsilons,listaparametros,N,data1,t):\n",
        "   # accepted_distances = np.loadtxt('smc/distances_{}_{}_{}_{}.out'.format(model,sto,gamma,prior_label))\n",
        "    T=len(epsilons)\n",
        "    weight=np.zeros((T,N),float)\n",
        "    dist=np.zeros((T,N),float)\n",
        "    sample=np.zeros((T,N),list)\n",
        "    X0=[1.0,0.5]\n",
        "    #t=np.linspace(0.,10,10)\n",
        "    for i in range(T):\n",
        "        count=0\n",
        "        counti=0\n",
        "        label=i\n",
        "        print(\"SMC step with target distance: {}\".format(epsilons[i]))\n",
        "        if i==0:\n",
        "            for j in range (N):\n",
        "                dist[i,j]=epsilons[i]+1\n",
        "                while dist[i,j]>epsilons[i]:\n",
        "                    sample[i,j]=prior()\n",
        "                    #sample[i,j]=np.array(prior())\n",
        "                    sample[i,j]=np.asarray(sample[i,j])\n",
        "                    data2= rk4(lotka_volterra,X0,t,sample[i,j])\n",
        "                    #print('data2',data2)\n",
        "                    #data2=np.array(data2, dtype=np.float64)\n",
        "                    dist[i,j]=euc_disti(data1,data2)\n",
        "                    #print('distcondata2',dist[i,j])\n",
        "                count+=1\n",
        "                print(count)\n",
        "       \n",
        "        else:\n",
        "        \n",
        "            for j in range (N):\n",
        "                dist[i,j]=epsilons[i]+1\n",
        "                while dist[i,j]>epsilons[i]:\n",
        "                    seed()\n",
        "                    np.random.seed()\n",
        "                    choose = choices(sample[i-1,:], weights = weight[i-1,:],k=1)[0] # select a point from the previous sample\n",
        "                    sample[i,j]=choose\n",
        "                    #print(\"before perturb\",type(sample[i,j]))\n",
        "                    #print(\"before perturb\",list(sample[i-1,:]))\n",
        "                    sample[i,j] = perturb(list(sample[i-1,:]),sample[i,j]) # and perturb it\n",
        "                    #print(\"after perturb\", sample[i,j])\n",
        "                    #print(\"after perturb\", type(sample[i,j]))\n",
        "                    evaluation=evaluate_prev_pru(sample[i,j]) \n",
        "                    if evaluation>0:\n",
        "                        data2=rk4(lotka_volterra,X0,t,sample[i,j])\n",
        "                        data2=np.array(data2)\n",
        "                        #print('data2',data2)\n",
        "                        dist[i,j]=euc_disti(data1,data2)\n",
        "                        print('distendata2',dist[i,j])\n",
        "                counti+=1\n",
        "                print(counti)\n",
        "        for j in range(N):\n",
        "            if i==0:\n",
        "                weight[i,j]=1\n",
        "               # print(weight[i,j])\n",
        "            else:\n",
        "                denom=weighting(i,j,N,sample[i,:],weight[i-1,:],list(sample[i-1,:]))\n",
        "                weight[i,j]=evaluate_prev_pru(sample[i,j])/denom\n",
        "        #print('weight[i,:]',weight[i,:])\n",
        "        if i!=0:\n",
        "           weight[i,:]=normalize(weight[i,:])\n",
        "           #print('weight[i,:] normalized',weight[i,:])\n",
        "        #pars = np.loadtxt('smc_van/pars_{}.out'.format(i))\n",
        "        #weights = np.loadtxt('smc_van/weights_{}.out'.format(i))\n",
        "        #np.savetxt('smc_van/pars_{}.out'.format(i), sample[T-1,:])\n",
        "        #np.savetxt('smc_van/weights_{}.out'.format(i), weight[T-1,:])\n",
        "      #  np.savetxt('smc/distances_{}.out'.format(label), accepted_distances)\n",
        "    #print('sample',sample[T-1,N-1])\n",
        "    #print('weight',weight[T-1])\n",
        "    #print('dist',dist[T-1])\n",
        "    return sample, weight, dist,data2\n"
      ]
    },
    {
      "cell_type": "code",
      "execution_count": null,
      "metadata": {
        "colab": {
          "base_uri": "https://localhost:8080/"
        },
        "id": "gAYQzh0clSUG",
        "outputId": "e5b6591d-3b2a-4a26-d5a2-047d1ee7dc2c"
      },
      "outputs": [],
      "source": [
        "sample,weight,dist,data2=principal(epsilons,params_lotka_volterra,100,midata,t)"
      ]
    },
    {
      "cell_type": "code",
      "execution_count": null,
      "metadata": {
        "colab": {
          "base_uri": "https://localhost:8080/"
        },
        "id": "kezzU8_3lSUG",
        "outputId": "e37859ae-2bac-4b4c-d5da-643ce471816c"
      },
      "outputs": [],
      "source": [
        "\n",
        "print(\"min accepted distance: \",np.min(dist[-1,:]))\n",
        "print(\"median accepted distance: \",np.median(dist[-1,:]))\n",
        "#print(\"median evaluated distance: \",np.median(evaluated_distances))\n"
      ]
    },
    {
      "cell_type": "code",
      "execution_count": null,
      "metadata": {
        "colab": {
          "base_uri": "https://localhost:8080/"
        },
        "id": "zovp2yeFlSUH",
        "outputId": "4083bfdb-2030-4e27-a32c-9a9f7903e713"
      },
      "outputs": [],
      "source": [
        "#np.median(sample[-1,:])\n",
        "np.var(sample[-1,0])\n",
        "sample[-1,:]"
      ]
    },
    {
      "cell_type": "code",
      "execution_count": null,
      "metadata": {
        "colab": {
          "base_uri": "https://localhost:8080/"
        },
        "id": "ECNVfQ_dlSUH",
        "outputId": "7eba643a-1398-4273-9379-03c119f19ea3"
      },
      "outputs": [],
      "source": [
        "parama=[]\n",
        "for j in sample[-1,:]:\n",
        "    parama.append(j[0])\n",
        "    \n"
      ]
    },
    {
      "cell_type": "code",
      "execution_count": null,
      "metadata": {
        "colab": {
          "base_uri": "https://localhost:8080/"
        },
        "id": "oYXA4bkYlSUI",
        "outputId": "57c55730-fe44-43ee-af0b-78d0d490f44a"
      },
      "outputs": [],
      "source": [
        "amean=np.mean(parama)\n",
        "amed=np.median(parama)\n",
        "avar=np.var(parama)\n",
        "print('mean',amean)\n",
        "print('median',amed)\n",
        "print('variance',avar)"
      ]
    },
    {
      "cell_type": "code",
      "execution_count": null,
      "metadata": {
        "id": "yAt-UEJYuqAL"
      },
      "outputs": [],
      "source": [
        "paramb=[]\n",
        "for j in sample[-1,:]:\n",
        "    paramb.append(j[1])\n",
        "    "
      ]
    },
    {
      "cell_type": "code",
      "execution_count": null,
      "metadata": {
        "colab": {
          "base_uri": "https://localhost:8080/"
        },
        "id": "wTa92rl0uvia",
        "outputId": "7b1abbba-580f-41af-ea3d-109cf267fc38"
      },
      "outputs": [],
      "source": [
        "bmean=np.mean(paramb)\n",
        "bmed=np.median(paramb)\n",
        "bvar=np.var(paramb)\n",
        "print('mean',bmean)\n",
        "print('median',bmed)\n",
        "print('variance',bvar)"
      ]
    },
    {
      "cell_type": "code",
      "execution_count": null,
      "metadata": {
        "id": "1dCud3oElSUJ"
      },
      "outputs": [],
      "source": [
        "paramc=[]\n",
        "for j in sample[-1,:]:\n",
        "    paramc.append(j[2])\n",
        "    \n"
      ]
    },
    {
      "cell_type": "code",
      "execution_count": null,
      "metadata": {
        "colab": {
          "base_uri": "https://localhost:8080/"
        },
        "id": "FX3EhHT3lSUJ",
        "outputId": "347af1fa-8f18-4b60-bd9e-2d73802c6e35"
      },
      "outputs": [],
      "source": [
        "cmean=np.mean(paramc)\n",
        "cmed=np.median(paramc)\n",
        "cvar=np.var(paramc)\n",
        "print('mean',cmean)\n",
        "print('median',cmed)\n",
        "print('variance',cvar)"
      ]
    },
    {
      "cell_type": "code",
      "execution_count": null,
      "metadata": {
        "id": "t3143cKZuSku"
      },
      "outputs": [],
      "source": [
        "paramd=[]\n",
        "for j in sample[-1,:]:\n",
        "    paramd.append(j[3])\n",
        "    "
      ]
    },
    {
      "cell_type": "code",
      "execution_count": null,
      "metadata": {
        "colab": {
          "base_uri": "https://localhost:8080/"
        },
        "id": "2sGEntvguM5t",
        "outputId": "07549be8-2825-4edd-db35-d6cdff449051"
      },
      "outputs": [],
      "source": [
        "dmean=np.mean(paramd)\n",
        "dmed=np.median(paramd)\n",
        "dvar=np.var(paramd)\n",
        "print('mean',dmean)\n",
        "print('median',dmed)\n",
        "print('variance',dvar)"
      ]
    },
    {
      "cell_type": "code",
      "execution_count": null,
      "metadata": {
        "colab": {
          "base_uri": "https://localhost:8080/",
          "height": 265
        },
        "id": "J-khXddblSUK",
        "outputId": "f62c86f3-6fc6-4bf6-a51a-665e3599fd64"
      },
      "outputs": [],
      "source": [
        "plt.figure()\n",
        "plt.plot(t,midata,'o')\n",
        "for i in sample[-1,:]:\n",
        "    data=rk4(lotka_volterra,X0,t,i)\n",
        "    plt.plot(t,data)\n",
        "plt.show()"
      ]
    },
    {
      "cell_type": "code",
      "execution_count": null,
      "metadata": {
        "colab": {
          "base_uri": "https://localhost:8080/",
          "height": 1000
        },
        "id": "71LFfhWTlSUL",
        "outputId": "4533eda1-26d2-4fbb-c857-ae9bee379385"
      },
      "outputs": [],
      "source": [
        "for k in range(len(epsilons)):\n",
        "    for j in range(len(params_lotka_volterra)):\n",
        "        plt.figure()\n",
        "        b=[]\n",
        "        for i in sample[k,:]:\n",
        "            b.append(i[j])\n",
        "        al=np.histogram(b)\n",
        "        n,bins,patches=plt.hist(b,edgecolor='white')\n",
        "        plt.title('Histogram of parameter'+str(j))\n",
        "    plt.show()\n",
        "plt.show()\n"
      ]
    },
    {
      "cell_type": "code",
      "execution_count": null,
      "metadata": {
        "colab": {
          "base_uri": "https://localhost:8080/"
        },
        "id": "IB_eDYyxlSUL",
        "outputId": "25bc6699-9c8e-42d9-8e55-e1b1bdfc4416"
      },
      "outputs": [],
      "source": [
        "print(\"min accepted distance: \",np.min(dist))"
      ]
    },
    {
      "cell_type": "code",
      "execution_count": null,
      "metadata": {
        "colab": {
          "base_uri": "https://localhost:8080/"
        },
        "id": "fGj3hHo3lSUL",
        "outputId": "f424feca-54a9-40a9-9ea9-e799f9a5774d"
      },
      "outputs": [],
      "source": [
        "mindis=np.min(dist[-1,:])\n",
        "np.where(dist==mindis)"
      ]
    },
    {
      "cell_type": "code",
      "execution_count": null,
      "metadata": {
        "id": "03fdkWQNlSUM"
      },
      "outputs": [],
      "source": [
        "maxdis=np.max(dist[-1,:])\n",
        "np.where(dist==maxdis)"
      ]
    },
    {
      "cell_type": "code",
      "execution_count": null,
      "metadata": {
        "colab": {
          "base_uri": "https://localhost:8080/"
        },
        "id": "BAtvAkq9lSUM",
        "outputId": "6ee1f204-198c-4d95-ee35-5204ab32a4b8"
      },
      "outputs": [],
      "source": [
        "mindis"
      ]
    },
    {
      "cell_type": "code",
      "execution_count": null,
      "metadata": {
        "id": "P_yjAGnzlSUM"
      },
      "outputs": [],
      "source": [
        "dist[-1,:]"
      ]
    },
    {
      "cell_type": "code",
      "execution_count": null,
      "metadata": {
        "id": "hLuOLMlJlSUN"
      },
      "outputs": [],
      "source": [
        "data4=rk4(lotka_volterra,X0,t,sample[-1,94])"
      ]
    },
    {
      "cell_type": "code",
      "execution_count": null,
      "metadata": {
        "id": "Agoy2I_6lSUN"
      },
      "outputs": [],
      "source": []
    },
    {
      "cell_type": "code",
      "execution_count": null,
      "metadata": {
        "colab": {
          "base_uri": "https://localhost:8080/",
          "height": 297
        },
        "id": "s-7HBuWQxIqJ",
        "outputId": "9ed433c1-7274-4828-f8a9-816f2fd10949"
      },
      "outputs": [],
      "source": [
        "plt.figure()\n",
        "plt.plot( t1, data1[:,0],label='predator')\n",
        "plt.plot( t1, data1[:,1],label='prey')\n",
        "plt.legend()\n",
        "plt.xlabel('time')\n",
        "plt.ylabel('populations density')\n",
        "#plt.plot(t,data1_c[:,0],'o')\n",
        "#plt.plot(t,data1_c[:,1],'*')\n",
        "#plt.plot( t, data3,'x')"
      ]
    },
    {
      "cell_type": "code",
      "execution_count": null,
      "metadata": {
        "id": "dWkOxLIVwXUC"
      },
      "outputs": [],
      "source": []
    },
    {
      "cell_type": "code",
      "execution_count": null,
      "metadata": {
        "colab": {
          "base_uri": "https://localhost:8080/",
          "height": 279
        },
        "id": "_2fSJYTQw4RC",
        "outputId": "8cb43312-74e3-45c9-ecdb-60b99721bb6c"
      },
      "outputs": [],
      "source": [
        "plt.figure()\n",
        "plt.plot()\n",
        "plt.plot(t,midata,'o-',label='target data')\n",
        "plt.plot(t,data4,'*',label='approximation')\n",
        "plt.legend(loc='upper right')\n",
        "plt.xlabel('time')\n",
        "plt.ylabel('populations density')\n",
        "plt.show()"
      ]
    }
  ],
  "metadata": {
    "colab": {
      "collapsed_sections": [],
      "include_colab_link": true,
      "provenance": []
    },
    "kernelspec": {
      "display_name": "Python 3",
      "language": "python",
      "name": "python3"
    },
    "language_info": {
      "codemirror_mode": {
        "name": "ipython",
        "version": 3
      },
      "file_extension": ".py",
      "mimetype": "text/x-python",
      "name": "python",
      "nbconvert_exporter": "python",
      "pygments_lexer": "ipython3",
      "version": "3.12.2"
    }
  },
  "nbformat": 4,
  "nbformat_minor": 0
}
